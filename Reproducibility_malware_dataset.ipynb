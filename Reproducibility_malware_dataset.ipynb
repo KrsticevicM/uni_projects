{
  "cells": [
    {
      "cell_type": "markdown",
      "metadata": {
        "id": "l0XTLEcc8V2b"
      },
      "source": [
        "# Importing libraries:"
      ]
    },
    {
      "cell_type": "code",
      "execution_count": 1,
      "metadata": {
        "id": "TqF0Y_rE8Iah"
      },
      "outputs": [],
      "source": [
        "import numpy as np\n",
        "from sklearn import datasets\n",
        "from sklearn.model_selection import train_test_split, cross_val_score, cross_val_predict\n",
        "from sklearn.ensemble import RandomForestClassifier, ExtraTreesClassifier, AdaBoostClassifier, GradientBoostingClassifier, VotingClassifier\n",
        "from sklearn.svm import SVC\n",
        "from xgboost import XGBClassifier\n",
        "from sklearn.tree import DecisionTreeClassifier\n",
        "from sklearn.metrics import accuracy_score, classification_report\n",
        "import matplotlib.pyplot as plt\n",
        "import pandas as pd\n",
        "from imblearn.under_sampling import RandomUnderSampler\n",
        "from sklearn.decomposition import PCA\n",
        "from sklearn.preprocessing import StandardScaler, LabelEncoder\n",
        "from tabulate import tabulate"
      ]
    },
    {
      "cell_type": "code",
      "execution_count": 2,
      "metadata": {
        "colab": {
          "base_uri": "https://localhost:8080/",
          "height": 273
        },
        "id": "bPztUrkd8d5y",
        "outputId": "f0f3aea7-98b5-48d5-8a59-afb39b9bd4ba"
      },
      "outputs": [
        {
          "data": {
            "application/vnd.google.colaboratory.intrinsic+json": {
              "type": "dataframe",
              "variable_name": "df"
            },
            "text/html": [
              "\n",
              "  <div id=\"df-d7eea319-efc1-4636-8161-939cc8a8e9c2\" class=\"colab-df-container\">\n",
              "    <div>\n",
              "<style scoped>\n",
              "    .dataframe tbody tr th:only-of-type {\n",
              "        vertical-align: middle;\n",
              "    }\n",
              "\n",
              "    .dataframe tbody tr th {\n",
              "        vertical-align: top;\n",
              "    }\n",
              "\n",
              "    .dataframe thead th {\n",
              "        text-align: right;\n",
              "    }\n",
              "</style>\n",
              "<table border=\"1\" class=\"dataframe\">\n",
              "  <thead>\n",
              "    <tr style=\"text-align: right;\">\n",
              "      <th></th>\n",
              "      <th>ACCESS_ALL_DOWNLOADS</th>\n",
              "      <th>ACCESS_CACHE_FILESYSTEM</th>\n",
              "      <th>ACCESS_CHECKIN_PROPERTIES</th>\n",
              "      <th>ACCESS_COARSE_LOCATION</th>\n",
              "      <th>ACCESS_COARSE_UPDATES</th>\n",
              "      <th>ACCESS_FINE_LOCATION</th>\n",
              "      <th>ACCESS_LOCATION_EXTRA_COMMANDS</th>\n",
              "      <th>ACCESS_MOCK_LOCATION</th>\n",
              "      <th>ACCESS_MTK_MMHW</th>\n",
              "      <th>ACCESS_NETWORK_STATE</th>\n",
              "      <th>...</th>\n",
              "      <th>Landroid/telephony/TelephonyManager;-&gt;getLine1Number</th>\n",
              "      <th>Landroid/telephony/TelephonyManager;-&gt;getNetworkOperator</th>\n",
              "      <th>Landroid/telephony/TelephonyManager;-&gt;getNetworkOperatorName</th>\n",
              "      <th>Landroid/telephony/TelephonyManager;-&gt;getNetworkCountryIso</th>\n",
              "      <th>Landroid/telephony/TelephonyManager;-&gt;getSimOperator</th>\n",
              "      <th>Landroid/telephony/TelephonyManager;-&gt;getSimOperatorName</th>\n",
              "      <th>Landroid/telephony/TelephonyManager;-&gt;getSimCountryIso</th>\n",
              "      <th>Landroid/telephony/TelephonyManager;-&gt;getSimSerialNumber</th>\n",
              "      <th>Lorg/apache/http/impl/client/DefaultHttpClient;-&gt;execute</th>\n",
              "      <th>Label</th>\n",
              "    </tr>\n",
              "  </thead>\n",
              "  <tbody>\n",
              "    <tr>\n",
              "      <th>0</th>\n",
              "      <td>0.0</td>\n",
              "      <td>0.0</td>\n",
              "      <td>0.0</td>\n",
              "      <td>0.0</td>\n",
              "      <td>0.0</td>\n",
              "      <td>0.0</td>\n",
              "      <td>0.0</td>\n",
              "      <td>0.0</td>\n",
              "      <td>0.0</td>\n",
              "      <td>1.0</td>\n",
              "      <td>...</td>\n",
              "      <td>1.0</td>\n",
              "      <td>1.0</td>\n",
              "      <td>1.0</td>\n",
              "      <td>0.0</td>\n",
              "      <td>0.0</td>\n",
              "      <td>0.0</td>\n",
              "      <td>0.0</td>\n",
              "      <td>0.0</td>\n",
              "      <td>1.0</td>\n",
              "      <td>malware</td>\n",
              "    </tr>\n",
              "    <tr>\n",
              "      <th>1</th>\n",
              "      <td>0.0</td>\n",
              "      <td>0.0</td>\n",
              "      <td>0.0</td>\n",
              "      <td>0.0</td>\n",
              "      <td>0.0</td>\n",
              "      <td>0.0</td>\n",
              "      <td>0.0</td>\n",
              "      <td>0.0</td>\n",
              "      <td>0.0</td>\n",
              "      <td>1.0</td>\n",
              "      <td>...</td>\n",
              "      <td>0.0</td>\n",
              "      <td>0.0</td>\n",
              "      <td>0.0</td>\n",
              "      <td>1.0</td>\n",
              "      <td>0.0</td>\n",
              "      <td>0.0</td>\n",
              "      <td>1.0</td>\n",
              "      <td>0.0</td>\n",
              "      <td>0.0</td>\n",
              "      <td>malware</td>\n",
              "    </tr>\n",
              "    <tr>\n",
              "      <th>2</th>\n",
              "      <td>0.0</td>\n",
              "      <td>0.0</td>\n",
              "      <td>0.0</td>\n",
              "      <td>0.0</td>\n",
              "      <td>0.0</td>\n",
              "      <td>0.0</td>\n",
              "      <td>0.0</td>\n",
              "      <td>0.0</td>\n",
              "      <td>0.0</td>\n",
              "      <td>1.0</td>\n",
              "      <td>...</td>\n",
              "      <td>0.0</td>\n",
              "      <td>0.0</td>\n",
              "      <td>0.0</td>\n",
              "      <td>0.0</td>\n",
              "      <td>0.0</td>\n",
              "      <td>0.0</td>\n",
              "      <td>0.0</td>\n",
              "      <td>0.0</td>\n",
              "      <td>0.0</td>\n",
              "      <td>malware</td>\n",
              "    </tr>\n",
              "    <tr>\n",
              "      <th>3</th>\n",
              "      <td>0.0</td>\n",
              "      <td>0.0</td>\n",
              "      <td>0.0</td>\n",
              "      <td>0.0</td>\n",
              "      <td>0.0</td>\n",
              "      <td>0.0</td>\n",
              "      <td>0.0</td>\n",
              "      <td>0.0</td>\n",
              "      <td>0.0</td>\n",
              "      <td>0.0</td>\n",
              "      <td>...</td>\n",
              "      <td>0.0</td>\n",
              "      <td>1.0</td>\n",
              "      <td>1.0</td>\n",
              "      <td>1.0</td>\n",
              "      <td>1.0</td>\n",
              "      <td>0.0</td>\n",
              "      <td>1.0</td>\n",
              "      <td>0.0</td>\n",
              "      <td>0.0</td>\n",
              "      <td>malware</td>\n",
              "    </tr>\n",
              "    <tr>\n",
              "      <th>4</th>\n",
              "      <td>0.0</td>\n",
              "      <td>0.0</td>\n",
              "      <td>0.0</td>\n",
              "      <td>0.0</td>\n",
              "      <td>0.0</td>\n",
              "      <td>0.0</td>\n",
              "      <td>0.0</td>\n",
              "      <td>0.0</td>\n",
              "      <td>0.0</td>\n",
              "      <td>0.0</td>\n",
              "      <td>...</td>\n",
              "      <td>0.0</td>\n",
              "      <td>0.0</td>\n",
              "      <td>0.0</td>\n",
              "      <td>0.0</td>\n",
              "      <td>0.0</td>\n",
              "      <td>0.0</td>\n",
              "      <td>0.0</td>\n",
              "      <td>0.0</td>\n",
              "      <td>0.0</td>\n",
              "      <td>malware</td>\n",
              "    </tr>\n",
              "  </tbody>\n",
              "</table>\n",
              "<p>5 rows × 242 columns</p>\n",
              "</div>\n",
              "    <div class=\"colab-df-buttons\">\n",
              "\n",
              "  <div class=\"colab-df-container\">\n",
              "    <button class=\"colab-df-convert\" onclick=\"convertToInteractive('df-d7eea319-efc1-4636-8161-939cc8a8e9c2')\"\n",
              "            title=\"Convert this dataframe to an interactive table.\"\n",
              "            style=\"display:none;\">\n",
              "\n",
              "  <svg xmlns=\"http://www.w3.org/2000/svg\" height=\"24px\" viewBox=\"0 -960 960 960\">\n",
              "    <path d=\"M120-120v-720h720v720H120Zm60-500h600v-160H180v160Zm220 220h160v-160H400v160Zm0 220h160v-160H400v160ZM180-400h160v-160H180v160Zm440 0h160v-160H620v160ZM180-180h160v-160H180v160Zm440 0h160v-160H620v160Z\"/>\n",
              "  </svg>\n",
              "    </button>\n",
              "\n",
              "  <style>\n",
              "    .colab-df-container {\n",
              "      display:flex;\n",
              "      gap: 12px;\n",
              "    }\n",
              "\n",
              "    .colab-df-convert {\n",
              "      background-color: #E8F0FE;\n",
              "      border: none;\n",
              "      border-radius: 50%;\n",
              "      cursor: pointer;\n",
              "      display: none;\n",
              "      fill: #1967D2;\n",
              "      height: 32px;\n",
              "      padding: 0 0 0 0;\n",
              "      width: 32px;\n",
              "    }\n",
              "\n",
              "    .colab-df-convert:hover {\n",
              "      background-color: #E2EBFA;\n",
              "      box-shadow: 0px 1px 2px rgba(60, 64, 67, 0.3), 0px 1px 3px 1px rgba(60, 64, 67, 0.15);\n",
              "      fill: #174EA6;\n",
              "    }\n",
              "\n",
              "    .colab-df-buttons div {\n",
              "      margin-bottom: 4px;\n",
              "    }\n",
              "\n",
              "    [theme=dark] .colab-df-convert {\n",
              "      background-color: #3B4455;\n",
              "      fill: #D2E3FC;\n",
              "    }\n",
              "\n",
              "    [theme=dark] .colab-df-convert:hover {\n",
              "      background-color: #434B5C;\n",
              "      box-shadow: 0px 1px 3px 1px rgba(0, 0, 0, 0.15);\n",
              "      filter: drop-shadow(0px 1px 2px rgba(0, 0, 0, 0.3));\n",
              "      fill: #FFFFFF;\n",
              "    }\n",
              "  </style>\n",
              "\n",
              "    <script>\n",
              "      const buttonEl =\n",
              "        document.querySelector('#df-d7eea319-efc1-4636-8161-939cc8a8e9c2 button.colab-df-convert');\n",
              "      buttonEl.style.display =\n",
              "        google.colab.kernel.accessAllowed ? 'block' : 'none';\n",
              "\n",
              "      async function convertToInteractive(key) {\n",
              "        const element = document.querySelector('#df-d7eea319-efc1-4636-8161-939cc8a8e9c2');\n",
              "        const dataTable =\n",
              "          await google.colab.kernel.invokeFunction('convertToInteractive',\n",
              "                                                    [key], {});\n",
              "        if (!dataTable) return;\n",
              "\n",
              "        const docLinkHtml = 'Like what you see? Visit the ' +\n",
              "          '<a target=\"_blank\" href=https://colab.research.google.com/notebooks/data_table.ipynb>data table notebook</a>'\n",
              "          + ' to learn more about interactive tables.';\n",
              "        element.innerHTML = '';\n",
              "        dataTable['output_type'] = 'display_data';\n",
              "        await google.colab.output.renderOutput(dataTable, element);\n",
              "        const docLink = document.createElement('div');\n",
              "        docLink.innerHTML = docLinkHtml;\n",
              "        element.appendChild(docLink);\n",
              "      }\n",
              "    </script>\n",
              "  </div>\n",
              "\n",
              "\n",
              "<div id=\"df-a5b16a7c-b972-40b0-9c7e-6dac516b25dc\">\n",
              "  <button class=\"colab-df-quickchart\" onclick=\"quickchart('df-a5b16a7c-b972-40b0-9c7e-6dac516b25dc')\"\n",
              "            title=\"Suggest charts\"\n",
              "            style=\"display:none;\">\n",
              "\n",
              "<svg xmlns=\"http://www.w3.org/2000/svg\" height=\"24px\"viewBox=\"0 0 24 24\"\n",
              "     width=\"24px\">\n",
              "    <g>\n",
              "        <path d=\"M19 3H5c-1.1 0-2 .9-2 2v14c0 1.1.9 2 2 2h14c1.1 0 2-.9 2-2V5c0-1.1-.9-2-2-2zM9 17H7v-7h2v7zm4 0h-2V7h2v10zm4 0h-2v-4h2v4z\"/>\n",
              "    </g>\n",
              "</svg>\n",
              "  </button>\n",
              "\n",
              "<style>\n",
              "  .colab-df-quickchart {\n",
              "      --bg-color: #E8F0FE;\n",
              "      --fill-color: #1967D2;\n",
              "      --hover-bg-color: #E2EBFA;\n",
              "      --hover-fill-color: #174EA6;\n",
              "      --disabled-fill-color: #AAA;\n",
              "      --disabled-bg-color: #DDD;\n",
              "  }\n",
              "\n",
              "  [theme=dark] .colab-df-quickchart {\n",
              "      --bg-color: #3B4455;\n",
              "      --fill-color: #D2E3FC;\n",
              "      --hover-bg-color: #434B5C;\n",
              "      --hover-fill-color: #FFFFFF;\n",
              "      --disabled-bg-color: #3B4455;\n",
              "      --disabled-fill-color: #666;\n",
              "  }\n",
              "\n",
              "  .colab-df-quickchart {\n",
              "    background-color: var(--bg-color);\n",
              "    border: none;\n",
              "    border-radius: 50%;\n",
              "    cursor: pointer;\n",
              "    display: none;\n",
              "    fill: var(--fill-color);\n",
              "    height: 32px;\n",
              "    padding: 0;\n",
              "    width: 32px;\n",
              "  }\n",
              "\n",
              "  .colab-df-quickchart:hover {\n",
              "    background-color: var(--hover-bg-color);\n",
              "    box-shadow: 0 1px 2px rgba(60, 64, 67, 0.3), 0 1px 3px 1px rgba(60, 64, 67, 0.15);\n",
              "    fill: var(--button-hover-fill-color);\n",
              "  }\n",
              "\n",
              "  .colab-df-quickchart-complete:disabled,\n",
              "  .colab-df-quickchart-complete:disabled:hover {\n",
              "    background-color: var(--disabled-bg-color);\n",
              "    fill: var(--disabled-fill-color);\n",
              "    box-shadow: none;\n",
              "  }\n",
              "\n",
              "  .colab-df-spinner {\n",
              "    border: 2px solid var(--fill-color);\n",
              "    border-color: transparent;\n",
              "    border-bottom-color: var(--fill-color);\n",
              "    animation:\n",
              "      spin 1s steps(1) infinite;\n",
              "  }\n",
              "\n",
              "  @keyframes spin {\n",
              "    0% {\n",
              "      border-color: transparent;\n",
              "      border-bottom-color: var(--fill-color);\n",
              "      border-left-color: var(--fill-color);\n",
              "    }\n",
              "    20% {\n",
              "      border-color: transparent;\n",
              "      border-left-color: var(--fill-color);\n",
              "      border-top-color: var(--fill-color);\n",
              "    }\n",
              "    30% {\n",
              "      border-color: transparent;\n",
              "      border-left-color: var(--fill-color);\n",
              "      border-top-color: var(--fill-color);\n",
              "      border-right-color: var(--fill-color);\n",
              "    }\n",
              "    40% {\n",
              "      border-color: transparent;\n",
              "      border-right-color: var(--fill-color);\n",
              "      border-top-color: var(--fill-color);\n",
              "    }\n",
              "    60% {\n",
              "      border-color: transparent;\n",
              "      border-right-color: var(--fill-color);\n",
              "    }\n",
              "    80% {\n",
              "      border-color: transparent;\n",
              "      border-right-color: var(--fill-color);\n",
              "      border-bottom-color: var(--fill-color);\n",
              "    }\n",
              "    90% {\n",
              "      border-color: transparent;\n",
              "      border-bottom-color: var(--fill-color);\n",
              "    }\n",
              "  }\n",
              "</style>\n",
              "\n",
              "  <script>\n",
              "    async function quickchart(key) {\n",
              "      const quickchartButtonEl =\n",
              "        document.querySelector('#' + key + ' button');\n",
              "      quickchartButtonEl.disabled = true;  // To prevent multiple clicks.\n",
              "      quickchartButtonEl.classList.add('colab-df-spinner');\n",
              "      try {\n",
              "        const charts = await google.colab.kernel.invokeFunction(\n",
              "            'suggestCharts', [key], {});\n",
              "      } catch (error) {\n",
              "        console.error('Error during call to suggestCharts:', error);\n",
              "      }\n",
              "      quickchartButtonEl.classList.remove('colab-df-spinner');\n",
              "      quickchartButtonEl.classList.add('colab-df-quickchart-complete');\n",
              "    }\n",
              "    (() => {\n",
              "      let quickchartButtonEl =\n",
              "        document.querySelector('#df-a5b16a7c-b972-40b0-9c7e-6dac516b25dc button');\n",
              "      quickchartButtonEl.style.display =\n",
              "        google.colab.kernel.accessAllowed ? 'block' : 'none';\n",
              "    })();\n",
              "  </script>\n",
              "</div>\n",
              "\n",
              "    </div>\n",
              "  </div>\n"
            ],
            "text/plain": [
              "   ACCESS_ALL_DOWNLOADS  ACCESS_CACHE_FILESYSTEM  ACCESS_CHECKIN_PROPERTIES  \\\n",
              "0                   0.0                      0.0                        0.0   \n",
              "1                   0.0                      0.0                        0.0   \n",
              "2                   0.0                      0.0                        0.0   \n",
              "3                   0.0                      0.0                        0.0   \n",
              "4                   0.0                      0.0                        0.0   \n",
              "\n",
              "   ACCESS_COARSE_LOCATION  ACCESS_COARSE_UPDATES  ACCESS_FINE_LOCATION  \\\n",
              "0                     0.0                    0.0                   0.0   \n",
              "1                     0.0                    0.0                   0.0   \n",
              "2                     0.0                    0.0                   0.0   \n",
              "3                     0.0                    0.0                   0.0   \n",
              "4                     0.0                    0.0                   0.0   \n",
              "\n",
              "   ACCESS_LOCATION_EXTRA_COMMANDS  ACCESS_MOCK_LOCATION  ACCESS_MTK_MMHW  \\\n",
              "0                             0.0                   0.0              0.0   \n",
              "1                             0.0                   0.0              0.0   \n",
              "2                             0.0                   0.0              0.0   \n",
              "3                             0.0                   0.0              0.0   \n",
              "4                             0.0                   0.0              0.0   \n",
              "\n",
              "   ACCESS_NETWORK_STATE  ...  \\\n",
              "0                   1.0  ...   \n",
              "1                   1.0  ...   \n",
              "2                   1.0  ...   \n",
              "3                   0.0  ...   \n",
              "4                   0.0  ...   \n",
              "\n",
              "   Landroid/telephony/TelephonyManager;->getLine1Number  \\\n",
              "0                                                1.0      \n",
              "1                                                0.0      \n",
              "2                                                0.0      \n",
              "3                                                0.0      \n",
              "4                                                0.0      \n",
              "\n",
              "   Landroid/telephony/TelephonyManager;->getNetworkOperator  \\\n",
              "0                                                1.0          \n",
              "1                                                0.0          \n",
              "2                                                0.0          \n",
              "3                                                1.0          \n",
              "4                                                0.0          \n",
              "\n",
              "   Landroid/telephony/TelephonyManager;->getNetworkOperatorName  \\\n",
              "0                                                1.0              \n",
              "1                                                0.0              \n",
              "2                                                0.0              \n",
              "3                                                1.0              \n",
              "4                                                0.0              \n",
              "\n",
              "   Landroid/telephony/TelephonyManager;->getNetworkCountryIso  \\\n",
              "0                                                0.0            \n",
              "1                                                1.0            \n",
              "2                                                0.0            \n",
              "3                                                1.0            \n",
              "4                                                0.0            \n",
              "\n",
              "   Landroid/telephony/TelephonyManager;->getSimOperator  \\\n",
              "0                                                0.0      \n",
              "1                                                0.0      \n",
              "2                                                0.0      \n",
              "3                                                1.0      \n",
              "4                                                0.0      \n",
              "\n",
              "   Landroid/telephony/TelephonyManager;->getSimOperatorName  \\\n",
              "0                                                0.0          \n",
              "1                                                0.0          \n",
              "2                                                0.0          \n",
              "3                                                0.0          \n",
              "4                                                0.0          \n",
              "\n",
              "   Landroid/telephony/TelephonyManager;->getSimCountryIso  \\\n",
              "0                                                0.0        \n",
              "1                                                1.0        \n",
              "2                                                0.0        \n",
              "3                                                1.0        \n",
              "4                                                0.0        \n",
              "\n",
              "   Landroid/telephony/TelephonyManager;->getSimSerialNumber  \\\n",
              "0                                                0.0          \n",
              "1                                                0.0          \n",
              "2                                                0.0          \n",
              "3                                                0.0          \n",
              "4                                                0.0          \n",
              "\n",
              "   Lorg/apache/http/impl/client/DefaultHttpClient;->execute    Label  \n",
              "0                                                1.0         malware  \n",
              "1                                                0.0         malware  \n",
              "2                                                0.0         malware  \n",
              "3                                                0.0         malware  \n",
              "4                                                0.0         malware  \n",
              "\n",
              "[5 rows x 242 columns]"
            ]
          },
          "execution_count": 2,
          "metadata": {},
          "output_type": "execute_result"
        }
      ],
      "source": [
        "# loading the dataset\n",
        "df = pd.read_csv('TUANDROMD.csv')\n",
        "df.head(5)"
      ]
    },
    {
      "cell_type": "code",
      "execution_count": 3,
      "metadata": {
        "colab": {
          "base_uri": "https://localhost:8080/"
        },
        "id": "2Lpvr4EB8msz",
        "outputId": "b1eeaf78-4866-4dac-d989-a873b2c9a301"
      },
      "outputs": [
        {
          "data": {
            "text/plain": [
              "(4465, 242)"
            ]
          },
          "execution_count": 3,
          "metadata": {},
          "output_type": "execute_result"
        }
      ],
      "source": [
        "df.shape"
      ]
    },
    {
      "cell_type": "markdown",
      "metadata": {
        "id": "59A_ujlz2aoR"
      },
      "source": [
        "# Preprocessing"
      ]
    },
    {
      "cell_type": "markdown",
      "metadata": {
        "id": "cb6St2ZI8_m8"
      },
      "source": [
        "Dataset has 4465 rows with 242 columns, all of them are encoded with LabelEncoder (binary, only 0 or 1) except variable Label. Next is checking for NaN values and constant/monotonic features."
      ]
    },
    {
      "cell_type": "code",
      "execution_count": 4,
      "metadata": {
        "colab": {
          "base_uri": "https://localhost:8080/",
          "height": 458
        },
        "id": "dmhbUn3X8rfW",
        "outputId": "af3df0a7-078d-4009-d5ce-2f28f5144777"
      },
      "outputs": [
        {
          "data": {
            "text/html": [
              "<div>\n",
              "<style scoped>\n",
              "    .dataframe tbody tr th:only-of-type {\n",
              "        vertical-align: middle;\n",
              "    }\n",
              "\n",
              "    .dataframe tbody tr th {\n",
              "        vertical-align: top;\n",
              "    }\n",
              "\n",
              "    .dataframe thead th {\n",
              "        text-align: right;\n",
              "    }\n",
              "</style>\n",
              "<table border=\"1\" class=\"dataframe\">\n",
              "  <thead>\n",
              "    <tr style=\"text-align: right;\">\n",
              "      <th></th>\n",
              "      <th>0</th>\n",
              "    </tr>\n",
              "  </thead>\n",
              "  <tbody>\n",
              "    <tr>\n",
              "      <th>ACCESS_ALL_DOWNLOADS</th>\n",
              "      <td>1</td>\n",
              "    </tr>\n",
              "    <tr>\n",
              "      <th>ACCESS_CACHE_FILESYSTEM</th>\n",
              "      <td>1</td>\n",
              "    </tr>\n",
              "    <tr>\n",
              "      <th>ACCESS_CHECKIN_PROPERTIES</th>\n",
              "      <td>1</td>\n",
              "    </tr>\n",
              "    <tr>\n",
              "      <th>ACCESS_COARSE_LOCATION</th>\n",
              "      <td>1</td>\n",
              "    </tr>\n",
              "    <tr>\n",
              "      <th>ACCESS_COARSE_UPDATES</th>\n",
              "      <td>1</td>\n",
              "    </tr>\n",
              "    <tr>\n",
              "      <th>...</th>\n",
              "      <td>...</td>\n",
              "    </tr>\n",
              "    <tr>\n",
              "      <th>Landroid/telephony/TelephonyManager;-&gt;getSimOperatorName</th>\n",
              "      <td>1</td>\n",
              "    </tr>\n",
              "    <tr>\n",
              "      <th>Landroid/telephony/TelephonyManager;-&gt;getSimCountryIso</th>\n",
              "      <td>1</td>\n",
              "    </tr>\n",
              "    <tr>\n",
              "      <th>Landroid/telephony/TelephonyManager;-&gt;getSimSerialNumber</th>\n",
              "      <td>1</td>\n",
              "    </tr>\n",
              "    <tr>\n",
              "      <th>Lorg/apache/http/impl/client/DefaultHttpClient;-&gt;execute</th>\n",
              "      <td>1</td>\n",
              "    </tr>\n",
              "    <tr>\n",
              "      <th>Label</th>\n",
              "      <td>1</td>\n",
              "    </tr>\n",
              "  </tbody>\n",
              "</table>\n",
              "<p>242 rows × 1 columns</p>\n",
              "</div><br><label><b>dtype:</b> int64</label>"
            ],
            "text/plain": [
              "ACCESS_ALL_DOWNLOADS                                        1\n",
              "ACCESS_CACHE_FILESYSTEM                                     1\n",
              "ACCESS_CHECKIN_PROPERTIES                                   1\n",
              "ACCESS_COARSE_LOCATION                                      1\n",
              "ACCESS_COARSE_UPDATES                                       1\n",
              "                                                           ..\n",
              "Landroid/telephony/TelephonyManager;->getSimOperatorName    1\n",
              "Landroid/telephony/TelephonyManager;->getSimCountryIso      1\n",
              "Landroid/telephony/TelephonyManager;->getSimSerialNumber    1\n",
              "Lorg/apache/http/impl/client/DefaultHttpClient;->execute    1\n",
              "Label                                                       1\n",
              "Length: 242, dtype: int64"
            ]
          },
          "execution_count": 4,
          "metadata": {},
          "output_type": "execute_result"
        }
      ],
      "source": [
        "df.isna().sum()"
      ]
    },
    {
      "cell_type": "code",
      "execution_count": 5,
      "metadata": {
        "colab": {
          "base_uri": "https://localhost:8080/"
        },
        "id": "r9Q2jDp-9x1q",
        "outputId": "678c50cd-bc03-40c1-d416-9d5da9822fa7"
      },
      "outputs": [
        {
          "name": "stdout",
          "output_type": "stream",
          "text": [
            "Constant columns:  ['ACCESS_PROVIDER', 'ACCESS_SERVICE', 'ACCESS_SHARED_DATA', 'activityCalled', 'ACTIVITY_RECOGNITION', 'ANT', 'ANT_ADMIN', 'AUTORUN_MANAGER_LICENSE_MANAGER', 'AUTORUN_MANAGER_LICENSE_SERVICE(.autorun)', 'BIND_GET_INSTALL_REFERRER_SERVICE', 'CHANGE_DISPLAY_MODE', 'CHECK_LICENSE', 'DATABASE_INTERFACE_SERVICE', 'DOWNLOAD_SERVICE', 'EXTENSION_PERMISSION', 'FULLSCREEN.FULL', 'GOOGLE_AUTH', 'GOOGLE_PHOTOS', 'JPUSH_MESSAGE', 'MAPS_RECEIVE', 'MESSAGE', 'PERMISSION', 'PERMISSION_RUN_TASKS', 'PLUGIN', 'READ', 'READ_ATTACHMENT', 'READ_AVESTTINGS', 'READ_CONTENT_PROVIDER', 'READ_DATA', 'READ_DATABASES', 'READ_GMAIL', 'READ_GSERVICES', 'READ_MESSAGES', 'RECEIVE', 'RECEIVE_SIGNED_DATA_RESULT', 'RESPOND', 'REQUEST', 'SEND', 'WRITE', 'WRITE_AVSETTING', 'WRITE_DATA', 'WRITE_DATABASES']\n",
            "\n",
            "Monotonic columns: []\n"
          ]
        }
      ],
      "source": [
        "constant_cols = [col for col in df.columns if df[col].nunique() == 1]\n",
        "print(\"Constant columns: \", constant_cols)\n",
        "\n",
        "monotonic_cols = [col for col in df.columns if df[col].is_monotonic_increasing or df[col].is_monotonic_decreasing]\n",
        "print(\"\\nMonotonic columns:\", monotonic_cols)"
      ]
    },
    {
      "cell_type": "markdown",
      "metadata": {
        "id": "7Qvsu7aQ_Buu"
      },
      "source": [
        "We will remove constant columns because they do not contribute to our model's predictions. If all values in a column are the same, they do not provide any useful information for defining the output."
      ]
    },
    {
      "cell_type": "code",
      "execution_count": 6,
      "metadata": {
        "colab": {
          "base_uri": "https://localhost:8080/"
        },
        "id": "2lGeNi2t-bdm",
        "outputId": "adcbabbc-1094-4c32-b3b4-05d2bda6eea9"
      },
      "outputs": [
        {
          "data": {
            "text/plain": [
              "(4464, 242)"
            ]
          },
          "execution_count": 6,
          "metadata": {},
          "output_type": "execute_result"
        }
      ],
      "source": [
        "# removing NaN values, 1 row\n",
        "df = df.dropna()\n",
        "df.shape"
      ]
    },
    {
      "cell_type": "code",
      "execution_count": 7,
      "metadata": {
        "colab": {
          "base_uri": "https://localhost:8080/"
        },
        "id": "0kw_Kva0_e2Y",
        "outputId": "b5f5f29d-43e3-4cca-aad6-29110ee6d0f8"
      },
      "outputs": [
        {
          "data": {
            "text/plain": [
              "(4464, 200)"
            ]
          },
          "execution_count": 7,
          "metadata": {},
          "output_type": "execute_result"
        }
      ],
      "source": [
        "df = df.drop(columns=constant_cols)\n",
        "df.shape"
      ]
    },
    {
      "cell_type": "code",
      "execution_count": 8,
      "metadata": {
        "id": "fw2ZEGwm_lci"
      },
      "outputs": [],
      "source": [
        "#df.duplicated().sum()"
      ]
    },
    {
      "cell_type": "code",
      "execution_count": 9,
      "metadata": {
        "colab": {
          "base_uri": "https://localhost:8080/",
          "height": 458
        },
        "id": "pCEu82kOAJ4m",
        "outputId": "1b3193ca-fdad-43a1-cbcf-53034c4f6bdf"
      },
      "outputs": [
        {
          "data": {
            "text/html": [
              "<div>\n",
              "<style scoped>\n",
              "    .dataframe tbody tr th:only-of-type {\n",
              "        vertical-align: middle;\n",
              "    }\n",
              "\n",
              "    .dataframe tbody tr th {\n",
              "        vertical-align: top;\n",
              "    }\n",
              "\n",
              "    .dataframe thead th {\n",
              "        text-align: right;\n",
              "    }\n",
              "</style>\n",
              "<table border=\"1\" class=\"dataframe\">\n",
              "  <thead>\n",
              "    <tr style=\"text-align: right;\">\n",
              "      <th></th>\n",
              "      <th>Label</th>\n",
              "    </tr>\n",
              "  </thead>\n",
              "  <tbody>\n",
              "    <tr>\n",
              "      <th>0</th>\n",
              "      <td>malware</td>\n",
              "    </tr>\n",
              "    <tr>\n",
              "      <th>1</th>\n",
              "      <td>malware</td>\n",
              "    </tr>\n",
              "    <tr>\n",
              "      <th>2</th>\n",
              "      <td>malware</td>\n",
              "    </tr>\n",
              "    <tr>\n",
              "      <th>3</th>\n",
              "      <td>malware</td>\n",
              "    </tr>\n",
              "    <tr>\n",
              "      <th>4</th>\n",
              "      <td>malware</td>\n",
              "    </tr>\n",
              "    <tr>\n",
              "      <th>...</th>\n",
              "      <td>...</td>\n",
              "    </tr>\n",
              "    <tr>\n",
              "      <th>4460</th>\n",
              "      <td>goodware</td>\n",
              "    </tr>\n",
              "    <tr>\n",
              "      <th>4461</th>\n",
              "      <td>goodware</td>\n",
              "    </tr>\n",
              "    <tr>\n",
              "      <th>4462</th>\n",
              "      <td>goodware</td>\n",
              "    </tr>\n",
              "    <tr>\n",
              "      <th>4463</th>\n",
              "      <td>goodware</td>\n",
              "    </tr>\n",
              "    <tr>\n",
              "      <th>4464</th>\n",
              "      <td>goodware</td>\n",
              "    </tr>\n",
              "  </tbody>\n",
              "</table>\n",
              "<p>4464 rows × 1 columns</p>\n",
              "</div><br><label><b>dtype:</b> object</label>"
            ],
            "text/plain": [
              "0        malware\n",
              "1        malware\n",
              "2        malware\n",
              "3        malware\n",
              "4        malware\n",
              "          ...   \n",
              "4460    goodware\n",
              "4461    goodware\n",
              "4462    goodware\n",
              "4463    goodware\n",
              "4464    goodware\n",
              "Name: Label, Length: 4464, dtype: object"
            ]
          },
          "execution_count": 9,
          "metadata": {},
          "output_type": "execute_result"
        }
      ],
      "source": [
        "df.Label"
      ]
    },
    {
      "cell_type": "markdown",
      "metadata": {
        "id": "WcJClWxkBH9h"
      },
      "source": [
        "We have to LabelEncode our Label; right now it is type object, but for our training we need type int."
      ]
    },
    {
      "cell_type": "code",
      "execution_count": 10,
      "metadata": {
        "colab": {
          "base_uri": "https://localhost:8080/",
          "height": 147
        },
        "id": "zahJ6haBAuad",
        "outputId": "d6cee368-819d-4cb8-a7a2-8086043be722"
      },
      "outputs": [
        {
          "data": {
            "application/vnd.google.colaboratory.intrinsic+json": {
              "type": "dataframe",
              "variable_name": "df"
            },
            "text/html": [
              "\n",
              "  <div id=\"df-c0d4aac2-6be7-4b33-85ca-5d0cf6be1ebb\" class=\"colab-df-container\">\n",
              "    <div>\n",
              "<style scoped>\n",
              "    .dataframe tbody tr th:only-of-type {\n",
              "        vertical-align: middle;\n",
              "    }\n",
              "\n",
              "    .dataframe tbody tr th {\n",
              "        vertical-align: top;\n",
              "    }\n",
              "\n",
              "    .dataframe thead th {\n",
              "        text-align: right;\n",
              "    }\n",
              "</style>\n",
              "<table border=\"1\" class=\"dataframe\">\n",
              "  <thead>\n",
              "    <tr style=\"text-align: right;\">\n",
              "      <th></th>\n",
              "      <th>ACCESS_ALL_DOWNLOADS</th>\n",
              "      <th>ACCESS_CACHE_FILESYSTEM</th>\n",
              "      <th>ACCESS_CHECKIN_PROPERTIES</th>\n",
              "      <th>ACCESS_COARSE_LOCATION</th>\n",
              "      <th>ACCESS_COARSE_UPDATES</th>\n",
              "      <th>ACCESS_FINE_LOCATION</th>\n",
              "      <th>ACCESS_LOCATION_EXTRA_COMMANDS</th>\n",
              "      <th>ACCESS_MOCK_LOCATION</th>\n",
              "      <th>ACCESS_MTK_MMHW</th>\n",
              "      <th>ACCESS_NETWORK_STATE</th>\n",
              "      <th>...</th>\n",
              "      <th>Landroid/telephony/TelephonyManager;-&gt;getLine1Number</th>\n",
              "      <th>Landroid/telephony/TelephonyManager;-&gt;getNetworkOperator</th>\n",
              "      <th>Landroid/telephony/TelephonyManager;-&gt;getNetworkOperatorName</th>\n",
              "      <th>Landroid/telephony/TelephonyManager;-&gt;getNetworkCountryIso</th>\n",
              "      <th>Landroid/telephony/TelephonyManager;-&gt;getSimOperator</th>\n",
              "      <th>Landroid/telephony/TelephonyManager;-&gt;getSimOperatorName</th>\n",
              "      <th>Landroid/telephony/TelephonyManager;-&gt;getSimCountryIso</th>\n",
              "      <th>Landroid/telephony/TelephonyManager;-&gt;getSimSerialNumber</th>\n",
              "      <th>Lorg/apache/http/impl/client/DefaultHttpClient;-&gt;execute</th>\n",
              "      <th>Label</th>\n",
              "    </tr>\n",
              "  </thead>\n",
              "  <tbody>\n",
              "    <tr>\n",
              "      <th>0</th>\n",
              "      <td>0.0</td>\n",
              "      <td>0.0</td>\n",
              "      <td>0.0</td>\n",
              "      <td>0.0</td>\n",
              "      <td>0.0</td>\n",
              "      <td>0.0</td>\n",
              "      <td>0.0</td>\n",
              "      <td>0.0</td>\n",
              "      <td>0.0</td>\n",
              "      <td>1.0</td>\n",
              "      <td>...</td>\n",
              "      <td>1.0</td>\n",
              "      <td>1.0</td>\n",
              "      <td>1.0</td>\n",
              "      <td>0.0</td>\n",
              "      <td>0.0</td>\n",
              "      <td>0.0</td>\n",
              "      <td>0.0</td>\n",
              "      <td>0.0</td>\n",
              "      <td>1.0</td>\n",
              "      <td>1</td>\n",
              "    </tr>\n",
              "  </tbody>\n",
              "</table>\n",
              "<p>1 rows × 200 columns</p>\n",
              "</div>\n",
              "    <div class=\"colab-df-buttons\">\n",
              "\n",
              "  <div class=\"colab-df-container\">\n",
              "    <button class=\"colab-df-convert\" onclick=\"convertToInteractive('df-c0d4aac2-6be7-4b33-85ca-5d0cf6be1ebb')\"\n",
              "            title=\"Convert this dataframe to an interactive table.\"\n",
              "            style=\"display:none;\">\n",
              "\n",
              "  <svg xmlns=\"http://www.w3.org/2000/svg\" height=\"24px\" viewBox=\"0 -960 960 960\">\n",
              "    <path d=\"M120-120v-720h720v720H120Zm60-500h600v-160H180v160Zm220 220h160v-160H400v160Zm0 220h160v-160H400v160ZM180-400h160v-160H180v160Zm440 0h160v-160H620v160ZM180-180h160v-160H180v160Zm440 0h160v-160H620v160Z\"/>\n",
              "  </svg>\n",
              "    </button>\n",
              "\n",
              "  <style>\n",
              "    .colab-df-container {\n",
              "      display:flex;\n",
              "      gap: 12px;\n",
              "    }\n",
              "\n",
              "    .colab-df-convert {\n",
              "      background-color: #E8F0FE;\n",
              "      border: none;\n",
              "      border-radius: 50%;\n",
              "      cursor: pointer;\n",
              "      display: none;\n",
              "      fill: #1967D2;\n",
              "      height: 32px;\n",
              "      padding: 0 0 0 0;\n",
              "      width: 32px;\n",
              "    }\n",
              "\n",
              "    .colab-df-convert:hover {\n",
              "      background-color: #E2EBFA;\n",
              "      box-shadow: 0px 1px 2px rgba(60, 64, 67, 0.3), 0px 1px 3px 1px rgba(60, 64, 67, 0.15);\n",
              "      fill: #174EA6;\n",
              "    }\n",
              "\n",
              "    .colab-df-buttons div {\n",
              "      margin-bottom: 4px;\n",
              "    }\n",
              "\n",
              "    [theme=dark] .colab-df-convert {\n",
              "      background-color: #3B4455;\n",
              "      fill: #D2E3FC;\n",
              "    }\n",
              "\n",
              "    [theme=dark] .colab-df-convert:hover {\n",
              "      background-color: #434B5C;\n",
              "      box-shadow: 0px 1px 3px 1px rgba(0, 0, 0, 0.15);\n",
              "      filter: drop-shadow(0px 1px 2px rgba(0, 0, 0, 0.3));\n",
              "      fill: #FFFFFF;\n",
              "    }\n",
              "  </style>\n",
              "\n",
              "    <script>\n",
              "      const buttonEl =\n",
              "        document.querySelector('#df-c0d4aac2-6be7-4b33-85ca-5d0cf6be1ebb button.colab-df-convert');\n",
              "      buttonEl.style.display =\n",
              "        google.colab.kernel.accessAllowed ? 'block' : 'none';\n",
              "\n",
              "      async function convertToInteractive(key) {\n",
              "        const element = document.querySelector('#df-c0d4aac2-6be7-4b33-85ca-5d0cf6be1ebb');\n",
              "        const dataTable =\n",
              "          await google.colab.kernel.invokeFunction('convertToInteractive',\n",
              "                                                    [key], {});\n",
              "        if (!dataTable) return;\n",
              "\n",
              "        const docLinkHtml = 'Like what you see? Visit the ' +\n",
              "          '<a target=\"_blank\" href=https://colab.research.google.com/notebooks/data_table.ipynb>data table notebook</a>'\n",
              "          + ' to learn more about interactive tables.';\n",
              "        element.innerHTML = '';\n",
              "        dataTable['output_type'] = 'display_data';\n",
              "        await google.colab.output.renderOutput(dataTable, element);\n",
              "        const docLink = document.createElement('div');\n",
              "        docLink.innerHTML = docLinkHtml;\n",
              "        element.appendChild(docLink);\n",
              "      }\n",
              "    </script>\n",
              "  </div>\n",
              "\n",
              "\n",
              "    </div>\n",
              "  </div>\n"
            ],
            "text/plain": [
              "   ACCESS_ALL_DOWNLOADS  ACCESS_CACHE_FILESYSTEM  ACCESS_CHECKIN_PROPERTIES  \\\n",
              "0                   0.0                      0.0                        0.0   \n",
              "\n",
              "   ACCESS_COARSE_LOCATION  ACCESS_COARSE_UPDATES  ACCESS_FINE_LOCATION  \\\n",
              "0                     0.0                    0.0                   0.0   \n",
              "\n",
              "   ACCESS_LOCATION_EXTRA_COMMANDS  ACCESS_MOCK_LOCATION  ACCESS_MTK_MMHW  \\\n",
              "0                             0.0                   0.0              0.0   \n",
              "\n",
              "   ACCESS_NETWORK_STATE  ...  \\\n",
              "0                   1.0  ...   \n",
              "\n",
              "   Landroid/telephony/TelephonyManager;->getLine1Number  \\\n",
              "0                                                1.0      \n",
              "\n",
              "   Landroid/telephony/TelephonyManager;->getNetworkOperator  \\\n",
              "0                                                1.0          \n",
              "\n",
              "   Landroid/telephony/TelephonyManager;->getNetworkOperatorName  \\\n",
              "0                                                1.0              \n",
              "\n",
              "   Landroid/telephony/TelephonyManager;->getNetworkCountryIso  \\\n",
              "0                                                0.0            \n",
              "\n",
              "   Landroid/telephony/TelephonyManager;->getSimOperator  \\\n",
              "0                                                0.0      \n",
              "\n",
              "   Landroid/telephony/TelephonyManager;->getSimOperatorName  \\\n",
              "0                                                0.0          \n",
              "\n",
              "   Landroid/telephony/TelephonyManager;->getSimCountryIso  \\\n",
              "0                                                0.0        \n",
              "\n",
              "   Landroid/telephony/TelephonyManager;->getSimSerialNumber  \\\n",
              "0                                                0.0          \n",
              "\n",
              "   Lorg/apache/http/impl/client/DefaultHttpClient;->execute  Label  \n",
              "0                                                1.0             1  \n",
              "\n",
              "[1 rows x 200 columns]"
            ]
          },
          "execution_count": 10,
          "metadata": {},
          "output_type": "execute_result"
        }
      ],
      "source": [
        "le = LabelEncoder()\n",
        "df['Label'] = le.fit_transform(df['Label'])\n",
        "df.head(1)"
      ]
    },
    {
      "cell_type": "markdown",
      "metadata": {
        "id": "Nx_VBSnO3HVA"
      },
      "source": [
        "## Checking class balance"
      ]
    },
    {
      "cell_type": "code",
      "execution_count": 11,
      "metadata": {
        "colab": {
          "base_uri": "https://localhost:8080/",
          "height": 612
        },
        "id": "Vt0ZBkn63k_2",
        "outputId": "61933d0f-139d-4734-c3a7-8cbab3f4ff3e"
      },
      "outputs": [
        {
          "data": {
            "image/png": "[encoded data removed]",
            "text/plain": [
              "<Figure size 600x600 with 1 Axes>"
            ]
          },
          "metadata": {},
          "output_type": "display_data"
        },
        {
          "name": "stdout",
          "output_type": "stream",
          "text": [
            "Count for eaach class:\n",
            " Label\n",
            "1    3565\n",
            "0     899\n",
            "Name: count, dtype: int64\n"
          ]
        }
      ],
      "source": [
        "label_counts = df['Label'].value_counts()\n",
        "# Plot pie chart\n",
        "plt.figure(figsize=(6,6))\n",
        "plt.pie(label_counts, labels=label_counts.index, autopct='%1.1f%%', startangle=140)\n",
        "plt.title(\"Distribution of outcome\")\n",
        "plt.show()\n",
        "\n",
        "print(\"Count for eaach class:\\n\", label_counts)"
      ]
    },
    {
      "cell_type": "markdown",
      "metadata": {
        "id": "_tmAz4op4R58"
      },
      "source": [
        "The problem is we have a very big class imbalance. If we leave it as it is, our model will be biased for the class 1 - 'malware' because it will learn from malware-related features. The model would not generalize good. So we will have to apply **undersampling** to reduce the size of class 1."
      ]
    },
    {
      "cell_type": "code",
      "execution_count": null,
      "metadata": {
        "id": "K6XUUl9M51Vn"
      },
      "outputs": [],
      "source": [
        "y = df['Label']\n",
        "X = df.drop(columns= ['Label'])\n",
        "\n",
        "rus = RandomUnderSampler(random_state=42)             # resource: https://imbalanced-learn.org/stable/references/generated/imblearn.under_sampling.RandomUnderSampler.html\n",
        "X_resampled, y_resampled = rus.fit_resample(X, y)"
      ]
    },
    {
      "cell_type": "code",
      "execution_count": 13,
      "metadata": {
        "colab": {
          "base_uri": "https://localhost:8080/"
        },
        "id": "EP-uGwIS7Q1h",
        "outputId": "5a0c5406-9188-4a98-ef60-33e82a00c0bd"
      },
      "outputs": [
        {
          "name": "stdout",
          "output_type": "stream",
          "text": [
            "Count for eaach class:\n",
            " Label\n",
            "0    899\n",
            "1    899\n",
            "Name: count, dtype: int64\n"
          ]
        }
      ],
      "source": [
        "label_counts = y_resampled.value_counts()\n",
        "print(\"Count for eaach class:\\n\", label_counts)"
      ]
    },
    {
      "cell_type": "markdown",
      "metadata": {
        "id": "eApyxnoq9Jsc"
      },
      "source": [
        "# Dimensionality reduction"
      ]
    },
    {
      "cell_type": "markdown",
      "metadata": {
        "id": "gVlh1qXlByz1"
      },
      "source": [
        "We have too many features - 200; which means probably not all of them give valueable information for our model. We need to reduce that number. Highly correlated features are not good for our model - we need to simplify our model and reduce high dimensionality.\n",
        "We are using PCA for reduction but before that we have to standardize our values."
      ]
    },
    {
      "cell_type": "code",
      "execution_count": null,
      "metadata": {
        "colab": {
          "base_uri": "https://localhost:8080/"
        },
        "id": "jQIEXu6BBhXl",
        "outputId": "2bde6390-d525-4afa-d9ed-3820ff8171a6"
      },
      "outputs": [
        {
          "name": "stdout",
          "output_type": "stream",
          "text": [
            "Number of components selected:  68\n"
          ]
        }
      ],
      "source": [
        "'''\n",
        "corr_matrix = df.corr().abs()\n",
        "upper_tri = corr_matrix.where(np.triu(np.ones(corr_matrix.shape), k=1).astype(bool))\n",
        "to_drop = [column for column in upper_tri.columns if any(upper_tri[column] > 0.8)]\n",
        "df = df.drop(columns=to_drop)\n",
        "df.shape\n",
        "'''\n",
        "scaler = StandardScaler()\n",
        "X_scaled = scaler.fit_transform(X_resampled)\n",
        "\n",
        "# resource: https://scikit-learn.org/stable/modules/generated/sklearn.decomposition.PCA.html\n",
        "pca = PCA(n_components=0.95)\n",
        "X_pca = pca.fit_transform(X_scaled)\n",
        "\n",
        "print(\"Number of components selected: \", pca.n_components_)"
      ]
    },
    {
      "cell_type": "markdown",
      "metadata": {
        "id": "gfWWeNOu_bYM"
      },
      "source": [
        "# Splitting the dataset and training + evaluation and results"
      ]
    },
    {
      "cell_type": "markdown",
      "metadata": {
        "id": "kH5vpyIq_EZu"
      },
      "source": [
        "Now we will use K-Fold cross validation with K=10 as used in our article."
      ]
    },
    {
      "cell_type": "code",
      "execution_count": null,
      "metadata": {
        "id": "vqUcYBwK0_Oc"
      },
      "outputs": [],
      "source": [
        "def try_models(X_train, X_test, y_train, y_test):\n",
        "    k = 10\n",
        "    models = [\"Random Forest\", \"Extra Trees\", \"AdaBoost\", \"XGBoost\", \"Gradient Boosting\"]\n",
        "    results = {}\n",
        "    accuracies = {}\n",
        "\n",
        "    # Random Forest\n",
        "    model_rf = RandomForestClassifier()\n",
        "    cv_rf = cross_val_score(model_rf, X_train, y_train, cv=k)\n",
        "    model_rf.fit(X_train, y_train)\n",
        "    y_pred_rf = model_rf.predict(X_test)\n",
        "    results[\"Random Forest\"] = classification_report(y_test, y_pred_rf, target_names=['Benign', 'Malware'], digits=4)\n",
        "    accuracies[\"Random Forest\"] = np.mean(cv_rf) * 100  \n",
        "\n",
        "    # Extra Trees\n",
        "    model_et = ExtraTreesClassifier()\n",
        "    cv_et = cross_val_score(model_et, X_train, y_train, cv=k)\n",
        "    model_et.fit(X_train, y_train)\n",
        "    y_pred_et = model_et.predict(X_test)\n",
        "    results[\"Extra Tree\"] = classification_report(y_test, y_pred_et, target_names=['Benign', 'Malware'], digits=4)\n",
        "    accuracies[\"Extra Tree\"] = np.mean(cv_et) * 100  \n",
        "\n",
        "    # AdaBoost\n",
        "    model_ab = AdaBoostClassifier()\n",
        "    cv_ab = cross_val_score(model_ab, X_train, y_train, cv=k)\n",
        "    model_ab.fit(X_train, y_train)\n",
        "    y_pred_ab = model_ab.predict(X_test)\n",
        "    results[\"Ada Boost\"] = classification_report(y_test, y_pred_ab, target_names=['Benign', 'Malware'], digits=4)\n",
        "    accuracies[\"Ada Boost\"] = np.mean(cv_ab) * 100  \n",
        "\n",
        "    # XGB\n",
        "    model_xgb = XGBClassifier()\n",
        "    cv_xgb = cross_val_score(model_xgb, X_train, y_train, cv=k)\n",
        "    model_xgb.fit(X_train, y_train)\n",
        "    y_pred_xgb = model_xgb.predict(X_test)\n",
        "    results[\"XG Boost\"] = classification_report(y_test, y_pred_xgb, target_names=['Benign', 'Malware'], digits=4)\n",
        "    accuracies[\"XG Boost\"] = np.mean(cv_xgb) * 100  \n",
        "    \n",
        "    # Gradient Boosting\n",
        "    model_gb = GradientBoostingClassifier()\n",
        "    cv_gb = cross_val_score(model_gb, X_train, y_train, cv=k)\n",
        "    model_gb.fit(X_train, y_train)\n",
        "    y_pred_gb = model_gb.predict(X_test)\n",
        "    results[\"Gradient Boosting\"] = classification_report(y_test, y_pred_gb, target_names=['Benign', 'Malware'], digits=4)\n",
        "    accuracies[\"Gradient Boosting\"] = np.mean(cv_gb) * 100  # Mean cross-validation accuracy\n",
        "\n",
        "    return results, accuracies"
      ]
    },
    {
      "cell_type": "code",
      "execution_count": 16,
      "metadata": {
        "id": "X24Ms15AEZyq"
      },
      "outputs": [],
      "source": [
        "def print_classification_report(results):\n",
        "    for model, report in results.items():\n",
        "        print(f\"Classification Report for {model}:\\n\")\n",
        "        print(report)\n",
        "        print(\"-\" * 50)"
      ]
    },
    {
      "cell_type": "code",
      "execution_count": 17,
      "metadata": {
        "id": "lUV899duFB6m"
      },
      "outputs": [],
      "source": [
        "def print_article_results(accuracies):\n",
        "    # Results data\n",
        "    classifiers = [\n",
        "        \"Random Forest\", \"Extra Tree\", \"Ada Boost\", \"XG Boost\", \"Gradient Boosting\"\n",
        "    ]\n",
        "\n",
        "    tuandromd_accuracies = [98.7, 98.8, 97.9, 97.8, 97.4]\n",
        "\n",
        "    results = [ [classifiers[i], tuandromd_accuracies[i], accuracies[classifiers[i]]]\n",
        "        for i in range(len(classifiers))]\n",
        "\n",
        "    headers = ['Model', 'TUANDROMD Accuracy', 'Current Model Acc']\n",
        "    print(tabulate(results, headers=headers, floatfmt=\".4f\"))"
      ]
    },
    {
      "cell_type": "code",
      "execution_count": 18,
      "metadata": {
        "id": "lfNKkOFEEWq6"
      },
      "outputs": [],
      "source": [
        "X_train, X_test, y_train, y_test = train_test_split(X_pca, y_resampled, test_size=0.2, random_state=42)"
      ]
    },
    {
      "cell_type": "code",
      "execution_count": 19,
      "metadata": {
        "id": "USAPmqvQ8Vsg"
      },
      "outputs": [],
      "source": [
        "results, accuracies = try_models(X_train, X_test, y_train, y_test)"
      ]
    },
    {
      "cell_type": "code",
      "execution_count": 20,
      "metadata": {
        "colab": {
          "base_uri": "https://localhost:8080/"
        },
        "id": "67ERBDRMCtgV",
        "outputId": "ea9eecd7-59f8-4fcb-d9c6-62a555cb2c0b"
      },
      "outputs": [
        {
          "name": "stdout",
          "output_type": "stream",
          "text": [
            "Classification Report for Random Forest:\n",
            "\n",
            "              precision    recall  f1-score   support\n",
            "\n",
            "      Benign     0.9672    0.9944    0.9806       178\n",
            "     Malware     0.9944    0.9670    0.9805       182\n",
            "\n",
            "    accuracy                         0.9806       360\n",
            "   macro avg     0.9808    0.9807    0.9806       360\n",
            "weighted avg     0.9809    0.9806    0.9806       360\n",
            "\n",
            "--------------------------------------------------\n",
            "Classification Report for Extra Tree:\n",
            "\n",
            "              precision    recall  f1-score   support\n",
            "\n",
            "      Benign     0.9672    0.9944    0.9806       178\n",
            "     Malware     0.9944    0.9670    0.9805       182\n",
            "\n",
            "    accuracy                         0.9806       360\n",
            "   macro avg     0.9808    0.9807    0.9806       360\n",
            "weighted avg     0.9809    0.9806    0.9806       360\n",
            "\n",
            "--------------------------------------------------\n",
            "Classification Report for Ada Boost:\n",
            "\n",
            "              precision    recall  f1-score   support\n",
            "\n",
            "      Benign     0.9721    0.9775    0.9748       178\n",
            "     Malware     0.9779    0.9725    0.9752       182\n",
            "\n",
            "    accuracy                         0.9750       360\n",
            "   macro avg     0.9750    0.9750    0.9750       360\n",
            "weighted avg     0.9750    0.9750    0.9750       360\n",
            "\n",
            "--------------------------------------------------\n",
            "Classification Report for XG Boost:\n",
            "\n",
            "              precision    recall  f1-score   support\n",
            "\n",
            "      Benign     0.9615    0.9831    0.9722       178\n",
            "     Malware     0.9831    0.9615    0.9722       182\n",
            "\n",
            "    accuracy                         0.9722       360\n",
            "   macro avg     0.9723    0.9723    0.9722       360\n",
            "weighted avg     0.9725    0.9722    0.9722       360\n",
            "\n",
            "--------------------------------------------------\n",
            "Classification Report for Gradient Boosting:\n",
            "\n",
            "              precision    recall  f1-score   support\n",
            "\n",
            "      Benign     0.9670    0.9888    0.9778       178\n",
            "     Malware     0.9888    0.9670    0.9778       182\n",
            "\n",
            "    accuracy                         0.9778       360\n",
            "   macro avg     0.9779    0.9779    0.9778       360\n",
            "weighted avg     0.9780    0.9778    0.9778       360\n",
            "\n",
            "--------------------------------------------------\n",
            "\n",
            "Model                TUANDROMD Accuracy    Current Model Acc\n",
            "-----------------  --------------------  -------------------\n",
            "Random Forest                   98.7000              99.0268\n",
            "Extra Tree                      98.8000              98.6092\n",
            "Ada Boost                       97.9000              98.4008\n",
            "XG Boost                        97.8000              98.8884\n",
            "Gradient Boosting               97.4000              98.9578\n"
          ]
        }
      ],
      "source": [
        "print_classification_report(results)\n",
        "print()\n",
        "print_article_results(accuracies)"
      ]
    }
  ],
  "metadata": {
    "colab": {
      "provenance": []
    },
    "kernelspec": {
      "display_name": "Python 3",
      "name": "python3"
    },
    "language_info": {
      "name": "python"
    }
  },
  "nbformat": 4,
  "nbformat_minor": 0
}
